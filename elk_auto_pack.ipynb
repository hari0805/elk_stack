{
 "cells": [
  {
   "cell_type": "code",
   "execution_count": 1,
   "id": "3b3e6cf7",
   "metadata": {},
   "outputs": [],
   "source": [
    "# import required packages.....\n",
    "from elasticsearch import Elasticsearch, helpers\n",
    "import configparser\n",
    "import pandas as pd\n",
    "import json\n",
    "import openpyxl\n",
    "from datetime import datetime\n",
    "\n",
    "import warnings\n",
    "warnings.filterwarnings(\"ignore\") # for ignore warnings\n",
    "\n",
    "\n",
    "class Elk_api:\n",
    "    def __init__(self, ini_file):   #load data using cloud api keys\n",
    "        self.config = configparser.ConfigParser()\n",
    "        self.config.read(ini_file) #create file with extention .ini having API details\n",
    "        self.es = Elasticsearch(\n",
    "        cloud_id=self.config['DEFAULT']['cloud_id'],\n",
    "        api_key=(self.config['DEFAULT']['apikey_id'], self.config['DEFAULT']['apikey_key']))\n",
    "        \n",
    "    def load_data(self, path, index): \n",
    "        split_tup = path.split('.')\n",
    "        file_extension = split_tup[-1]\n",
    "        if file_extension == 'csv':\n",
    "            df = pd.read_csv(path)\n",
    "        elif file_extension == 'json':\n",
    "            df = pd.read_json(path)\n",
    "        else:\n",
    "            wb= openpyxl.load_workbook(path)   #Pass file and save as a workbook formate\n",
    "            datestring = datetime.strftime(datetime.now(), '%b_%a_%H_%M_%p')\n",
    "            dest_filename = f\"{datestring}.xlsx\"\n",
    "            wb.save(filename = dest_filename)\n",
    "            df = pd.read_excel(dest_filename)\n",
    "        json_lst=list(map(lambda x : json.loads(df.iloc[x, :].to_json()), range(len(df))))\n",
    "        print(f\"{df.shape[0]} rows & {df.shape[1]} columns are Ready to load....\")\n",
    "        res=list(map(lambda data : self.es.index(index=index, document=data), json_lst))\n",
    "        print(f\"{len(res)} rows loaded\")\n",
    "        \n",
    "class Elk_cloud(Elk_api):   #load data using cloud username & password\n",
    "    def __init__(self, ini_file):\n",
    "        self.config = configparser.ConfigParser()\n",
    "        self.config.read(ini_file) #create file with extention .ini having cloud id details\n",
    "        self.es = Elasticsearch(\n",
    "        cloud_id=self.config['ELASTIC']['cloud_id'],\n",
    "        http_auth=(self.config['ELASTIC']['user'], self.config['ELASTIC']['password']))\n",
    "        \n",
    "class Elk_local(Elk_api):   #load data using localhost\n",
    "    def __init__(self, localhost):\n",
    "        self.es = Elasticsearch(localhost)   #localhost = http://localhost:9200"
   ]
  },
  {
   "cell_type": "code",
   "execution_count": 2,
   "id": "07d88967",
   "metadata": {},
   "outputs": [
    {
     "name": "stdout",
     "output_type": "stream",
     "text": [
      "500 rows & 28 columns are Ready to load....\n",
      "500 rows loaded\n"
     ]
    }
   ],
   "source": [
    "ek=Elk_api('elkapi.ini')\n",
    "ek.load_data(\"world_data.csv\", 'world_data_api')"
   ]
  }
 ],
 "metadata": {
  "kernelspec": {
   "display_name": "Python 3 (ipykernel)",
   "language": "python",
   "name": "python3"
  },
  "language_info": {
   "codemirror_mode": {
    "name": "ipython",
    "version": 3
   },
   "file_extension": ".py",
   "mimetype": "text/x-python",
   "name": "python",
   "nbconvert_exporter": "python",
   "pygments_lexer": "ipython3",
   "version": "3.10.0"
  }
 },
 "nbformat": 4,
 "nbformat_minor": 5
}
